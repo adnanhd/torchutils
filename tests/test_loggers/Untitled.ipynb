{
 "cells": [
  {
   "cell_type": "code",
   "execution_count": 1,
   "id": "57298065",
   "metadata": {},
   "outputs": [],
   "source": [
    "from torchutils.logging.pbar import StepProgressBar, EpochProgressBar, SampleProgressBar\n",
    "from torchutils.utils.pydantic import HandlerArguments, TrainerStatus, TrainerModel, TrainingArguments\n",
    "from torchutils.data import Dataset\n",
    "import torch, time\n",
    "from torch.nn import Linear"
   ]
  },
  {
   "cell_type": "code",
   "execution_count": 3,
   "id": "9da6241e",
   "metadata": {},
   "outputs": [
    {
     "name": "stderr",
     "output_type": "stream",
     "text": [
      "\u001b[34m\u001b[1mwandb\u001b[0m: Currently logged in as: \u001b[33madnanhd\u001b[0m. Use \u001b[1m`wandb login --relogin`\u001b[0m to force relogin\n"
     ]
    },
    {
     "data": {
      "text/html": [
       "wandb version 0.12.19 is available!  To upgrade, please run:\n",
       " $ pip install wandb --upgrade"
      ],
      "text/plain": [
       "<IPython.core.display.HTML object>"
      ]
     },
     "metadata": {},
     "output_type": "display_data"
    },
    {
     "data": {
      "text/html": [
       "Tracking run with wandb version 0.12.17"
      ],
      "text/plain": [
       "<IPython.core.display.HTML object>"
      ]
     },
     "metadata": {},
     "output_type": "display_data"
    },
    {
     "data": {
      "text/html": [
       "Run data is saved locally in <code>/home/ceng/public/torchutils/tests/test_loggers/wandb/run-20220624_204912-3jkearej</code>"
      ],
      "text/plain": [
       "<IPython.core.display.HTML object>"
      ]
     },
     "metadata": {},
     "output_type": "display_data"
    },
    {
     "data": {
      "text/html": [
       "Syncing run <strong><a href=\"https://wandb.ai/adnanhd/torchutils-tests_test_loggers/runs/3jkearej\" target=\"_blank\">wild-bush-13</a></strong> to <a href=\"https://wandb.ai/adnanhd/torchutils-tests_test_loggers\" target=\"_blank\">Weights & Biases</a> (<a href=\"https://wandb.me/run\" target=\"_blank\">docs</a>)<br/>"
      ],
      "text/plain": [
       "<IPython.core.display.HTML object>"
      ]
     },
     "metadata": {},
     "output_type": "display_data"
    }
   ],
   "source": [
    "logger = WandbLogger()\n",
    "logger.open()"
   ]
  },
  {
   "cell_type": "code",
   "execution_count": 4,
   "id": "2ee228c3",
   "metadata": {},
   "outputs": [],
   "source": [
    "img = np.random.randn(96, 96, 3) * 0.2\n",
    "logger.log_image({'my_image': [img, img, img]})"
   ]
  },
  {
   "cell_type": "code",
   "execution_count": 5,
   "id": "8dcbf66f",
   "metadata": {},
   "outputs": [],
   "source": [
    "\n",
    "df = pd.DataFrame(columns=['loss', 'accuracy'], index=range(11))\n",
    "df['loss'] = [23, 14, 10, 4, 3, 1, 7, 8, 4, 32, 1]\n",
    "logger.log_table({'my_table': df})"
   ]
  },
  {
   "cell_type": "code",
   "execution_count": 6,
   "id": "2e892605",
   "metadata": {},
   "outputs": [
    {
     "data": {
      "text/html": [
       "Waiting for W&B process to finish... <strong style=\"color:green\">(success).</strong>"
      ],
      "text/plain": [
       "<IPython.core.display.HTML object>"
      ]
     },
     "metadata": {},
     "output_type": "display_data"
    },
    {
     "data": {
      "application/vnd.jupyter.widget-view+json": {
       "model_id": "",
       "version_major": 2,
       "version_minor": 0
      },
      "text/plain": [
       "VBox(children=(Label(value='0.026 MB of 0.026 MB uploaded (0.000 MB deduped)\\r'), FloatProgress(value=0.994341…"
      ]
     },
     "metadata": {},
     "output_type": "display_data"
    },
    {
     "data": {
      "text/html": [
       "Synced <strong style=\"color:#cdcd00\">wild-bush-13</strong>: <a href=\"https://wandb.ai/adnanhd/torchutils-tests_test_loggers/runs/3jkearej\" target=\"_blank\">https://wandb.ai/adnanhd/torchutils-tests_test_loggers/runs/3jkearej</a><br/>Synced 4 W&B file(s), 2 media file(s), 1 artifact file(s) and 0 other file(s)"
      ],
      "text/plain": [
       "<IPython.core.display.HTML object>"
      ]
     },
     "metadata": {},
     "output_type": "display_data"
    }
   ],
   "source": [
    "logger._wandb.finish(quiet=True)"
   ]
  },
  {
   "cell_type": "code",
   "execution_count": null,
   "id": "763cb783",
   "metadata": {},
   "outputs": [],
   "source": []
  },
  {
   "cell_type": "code",
   "execution_count": null,
   "id": "f1b5bbc2",
   "metadata": {},
   "outputs": [],
   "source": []
  }
 ],
 "metadata": {
  "kernelspec": {
   "display_name": "Python 3",
   "language": "python",
   "name": "python3"
  },
  "language_info": {
   "codemirror_mode": {
    "name": "ipython",
    "version": 3
   },
   "file_extension": ".py",
   "mimetype": "text/x-python",
   "name": "python",
   "nbconvert_exporter": "python",
   "pygments_lexer": "ipython3",
   "version": "3.6.9"
  }
 },
 "nbformat": 4,
 "nbformat_minor": 5
}
