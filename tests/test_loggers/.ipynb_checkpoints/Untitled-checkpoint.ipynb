{
 "cells": [
  {
   "cell_type": "code",
   "execution_count": 1,
   "id": "04272f96",
   "metadata": {},
   "outputs": [],
   "source": [
    "from torchutils.logging.pbar import StepProgressBar, EpochProgressBar\n",
    "from torchutils.utils.pydantic import HandlerArguments, TrainerStatus, TrainerModel, TrainingArguments\n",
    "from torchutils.data import Dataset\n",
    "import torch, time\n",
    "from torch.nn import Linear"
   ]
  },
  {
   "cell_type": "code",
   "execution_count": 6,
   "id": "4fa02a75",
   "metadata": {},
   "outputs": [],
   "source": [
    "loader = Dataset(features=torch.randn(120, 42), labels=torch.randn(120, 1)).dataloader(batch_size=30)\n",
    "arguments = args=TrainingArguments(num_epochs=5, learning_rate=1e-2,train_dl_batch_size=30)\n",
    "\n",
    "args = HandlerArguments(\n",
    "    model=TrainerModel(model=Linear(42, 1), criterion='MSELoss', optimizer='Adam', lr=1e-2), \n",
    "    status_ptr=[TrainerStatus()],\n",
    "    train_dl = loader,\n",
    "    args = arguments,\n",
    ")\n",
    "\n",
    "epoch = EpochProgressBar() #position=1, leave=True)\n",
    "batch = StepProgressBar() #position=0, leave=True)\n",
    "sample = SampleProgressBar()\n",
    "\n",
    "def __delay__(fn):\n",
    "    def wrapped():\n",
    "        fn()\n",
    "        time.sleep(0.6)\n",
    "    return wrapped\n",
    "\n",
    "@__delay__\n",
    "def on_run_start():\n",
    "    epoch.open(args)\n",
    "\n",
    "@__delay__\n",
    "def on_step_start():\n",
    "    batch.open(args)\n",
    "    \n",
    "@__delay__\n",
    "def on_step_end():\n",
    "    batch.log_scores({'loss': 1})\n",
    "    batch.update(1)\n",
    "    \n",
    "@__delay__\n",
    "def on_epoch_end():\n",
    "    epoch.log_scores({'loss': 7})\n",
    "    epoch.update(1)\n",
    "    batch.close()\n",
    "    \n",
    "@__delay__\n",
    "def on_valid_start():\n",
    "    sample.open()\n",
    "    \n",
    "@__delay__\n",
    "def on_valid_step_end():\n",
    "    sample.log_scores({'loss': 2})\n",
    "    sample.update()\n",
    "    \n",
    "@__delay__\n",
    "def on_valid_end():\n",
    "    sample.close()\n",
    "    \n",
    "@__delay__\n",
    "def on_run_end():\n",
    "    epoch.update(1)\n",
    "    epoch.close()\n",
    "    "
   ]
  },
  {
   "cell_type": "code",
   "execution_count": 7,
   "id": "a57dce5a",
   "metadata": {},
   "outputs": [
    {
     "data": {
      "application/vnd.jupyter.widget-view+json": {
       "model_id": "",
       "version_major": 2,
       "version_minor": 0
      },
      "text/plain": [
       "Training:   0%|          | 0/5 [00:00<?, ?epoch/s]"
      ]
     },
     "metadata": {},
     "output_type": "display_data"
    },
    {
     "data": {
      "application/vnd.jupyter.widget-view+json": {
       "model_id": "86999d2aacd1438580f97b70479b330d",
       "version_major": 2,
       "version_minor": 0
      },
      "text/plain": [
       "Epoch None:   0%|          | 0/4 [00:00<?, ?batch/s]"
      ]
     },
     "metadata": {},
     "output_type": "display_data"
    },
    {
     "data": {
      "application/vnd.jupyter.widget-view+json": {
       "model_id": "7f6e2276fa654f259b5421b1d50bf148",
       "version_major": 2,
       "version_minor": 0
      },
      "text/plain": [
       "Epoch None:   0%|          | 0/4 [00:00<?, ?batch/s]"
      ]
     },
     "metadata": {},
     "output_type": "display_data"
    },
    {
     "data": {
      "application/vnd.jupyter.widget-view+json": {
       "model_id": "ed76ed32127a47feb9cef95426d98a94",
       "version_major": 2,
       "version_minor": 0
      },
      "text/plain": [
       "Epoch None:   0%|          | 0/4 [00:00<?, ?batch/s]"
      ]
     },
     "metadata": {},
     "output_type": "display_data"
    },
    {
     "data": {
      "application/vnd.jupyter.widget-view+json": {
       "model_id": "f980bea57709406fa93c569fc6ffac41",
       "version_major": 2,
       "version_minor": 0
      },
      "text/plain": [
       "Epoch None:   0%|          | 0/4 [00:00<?, ?batch/s]"
      ]
     },
     "metadata": {},
     "output_type": "display_data"
    },
    {
     "data": {
      "application/vnd.jupyter.widget-view+json": {
       "model_id": "a94a348c916d46888624504f03ebcfa0",
       "version_major": 2,
       "version_minor": 0
      },
      "text/plain": [
       "Epoch None:   0%|          | 0/4 [00:00<?, ?batch/s]"
      ]
     },
     "metadata": {},
     "output_type": "display_data"
    }
   ],
   "source": [
    "on_run_start()\n",
    "for epoch_idx in range(5):\n",
    "    for batch_idx in range(4):\n",
    "        on_step_start()\n",
    "        on_step_end()\n",
    "    on_epoch_end()\n",
    "    on_valid_start()\n",
    "    for batch_idx in range(4):\n",
    "        on_valid_step_end()\n",
    "    on_valid_end()\n",
    "on_run_end()"
   ]
  },
  {
   "cell_type": "code",
   "execution_count": null,
   "id": "1b2a7c78",
   "metadata": {},
   "outputs": [],
   "source": []
  }
 ],
 "metadata": {
  "kernelspec": {
   "display_name": "Python 3",
   "language": "python",
   "name": "python3"
  },
  "language_info": {
   "codemirror_mode": {
    "name": "ipython",
    "version": 3
   },
   "file_extension": ".py",
   "mimetype": "text/x-python",
   "name": "python",
   "nbconvert_exporter": "python",
   "pygments_lexer": "ipython3",
   "version": "3.6.9"
  }
 },
 "nbformat": 4,
 "nbformat_minor": 5
}
